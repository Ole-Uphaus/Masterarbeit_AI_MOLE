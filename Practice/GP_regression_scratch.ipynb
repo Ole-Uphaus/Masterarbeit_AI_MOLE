{
 "cells": [
  {
   "cell_type": "markdown",
   "id": "40eaf456",
   "metadata": {},
   "source": [
    "## Gaussian Process Regression from scratch\n",
    "\n",
    "Autor: Ole Uphaus\n",
    "\n",
    "In diesem Jupyter Notebook werde ich **Gauß-Prozesse** nutzen, um ein **Regeressionsproblem** zu lösen. Dabei werde ich nicht auf integrierte Pakete zurückgreifen, sondern alle mathematischen Grundlagen selber implementieren."
   ]
  },
  {
   "cell_type": "code",
   "execution_count": null,
   "id": "6ca571dc",
   "metadata": {},
   "outputs": [],
   "source": [
    "# Import packages"
   ]
  }
 ],
 "metadata": {
  "kernelspec": {
   "display_name": "Masterarbeit",
   "language": "python",
   "name": "python3"
  },
  "language_info": {
   "name": "python",
   "version": "3.12.11"
  }
 },
 "nbformat": 4,
 "nbformat_minor": 5
}
